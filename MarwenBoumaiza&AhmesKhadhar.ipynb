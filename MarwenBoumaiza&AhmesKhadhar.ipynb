{
  "nbformat": 4,
  "nbformat_minor": 0,
  "metadata": {
    "kernelspec": {
      "display_name": "Python 3",
      "language": "python",
      "name": "python3"
    },
    "language_info": {
      "codemirror_mode": {
        "name": "ipython",
        "version": 3
      },
      "file_extension": ".py",
      "mimetype": "text/x-python",
      "name": "python",
      "nbconvert_exporter": "python",
      "pygments_lexer": "ipython3",
      "version": "3.6.6"
    },
    "colab": {
      "name": "sound-classification-using-spectrogram-images.ipynb",
      "provenance": [],
      "toc_visible": true
    },
    "accelerator": "GPU",
    "widgets": {
      "application/vnd.jupyter.widget-state+json": {
        "d179a2524ea9441eb6dacc78f4a7443c": {
          "model_module": "@jupyter-widgets/controls",
          "model_name": "HBoxModel",
          "state": {
            "_view_name": "HBoxView",
            "_dom_classes": [],
            "_model_name": "HBoxModel",
            "_view_module": "@jupyter-widgets/controls",
            "_model_module_version": "1.5.0",
            "_view_count": null,
            "_view_module_version": "1.5.0",
            "box_style": "",
            "layout": "IPY_MODEL_338d7f64d1ce44789c0ed2d717c6716d",
            "_model_module": "@jupyter-widgets/controls",
            "children": [
              "IPY_MODEL_ed9e495bdec84f5582abb18a60e6ef77",
              "IPY_MODEL_7a108c63c36649efa43c6409533004a5"
            ]
          }
        },
        "338d7f64d1ce44789c0ed2d717c6716d": {
          "model_module": "@jupyter-widgets/base",
          "model_name": "LayoutModel",
          "state": {
            "_view_name": "LayoutView",
            "grid_template_rows": null,
            "right": null,
            "justify_content": null,
            "_view_module": "@jupyter-widgets/base",
            "overflow": null,
            "_model_module_version": "1.2.0",
            "_view_count": null,
            "flex_flow": null,
            "width": null,
            "min_width": null,
            "border": null,
            "align_items": null,
            "bottom": null,
            "_model_module": "@jupyter-widgets/base",
            "top": null,
            "grid_column": null,
            "overflow_y": null,
            "overflow_x": null,
            "grid_auto_flow": null,
            "grid_area": null,
            "grid_template_columns": null,
            "flex": null,
            "_model_name": "LayoutModel",
            "justify_items": null,
            "grid_row": null,
            "max_height": null,
            "align_content": null,
            "visibility": null,
            "align_self": null,
            "height": null,
            "min_height": null,
            "padding": null,
            "grid_auto_rows": null,
            "grid_gap": null,
            "max_width": null,
            "order": null,
            "_view_module_version": "1.2.0",
            "grid_template_areas": null,
            "object_position": null,
            "object_fit": null,
            "grid_auto_columns": null,
            "margin": null,
            "display": null,
            "left": null
          }
        },
        "ed9e495bdec84f5582abb18a60e6ef77": {
          "model_module": "@jupyter-widgets/controls",
          "model_name": "IntProgressModel",
          "state": {
            "_view_name": "ProgressView",
            "style": "IPY_MODEL_ea6e44f431d4448d91ff9e50c704512b",
            "_dom_classes": [],
            "description": "100%",
            "_model_name": "IntProgressModel",
            "bar_style": "success",
            "max": 87306240,
            "_view_module": "@jupyter-widgets/controls",
            "_model_module_version": "1.5.0",
            "value": 87306240,
            "_view_count": null,
            "_view_module_version": "1.5.0",
            "orientation": "horizontal",
            "min": 0,
            "description_tooltip": null,
            "_model_module": "@jupyter-widgets/controls",
            "layout": "IPY_MODEL_9c1766336677402eaedf91554eb89dcb"
          }
        },
        "7a108c63c36649efa43c6409533004a5": {
          "model_module": "@jupyter-widgets/controls",
          "model_name": "HTMLModel",
          "state": {
            "_view_name": "HTMLView",
            "style": "IPY_MODEL_0ee9d8be7af1419db2b44adcebf35332",
            "_dom_classes": [],
            "description": "",
            "_model_name": "HTMLModel",
            "placeholder": "​",
            "_view_module": "@jupyter-widgets/controls",
            "_model_module_version": "1.5.0",
            "value": " 83.3M/83.3M [00:39&lt;00:00, 2.23MB/s]",
            "_view_count": null,
            "_view_module_version": "1.5.0",
            "description_tooltip": null,
            "_model_module": "@jupyter-widgets/controls",
            "layout": "IPY_MODEL_60f298f62b3f4cacba729288a9e5bc21"
          }
        },
        "ea6e44f431d4448d91ff9e50c704512b": {
          "model_module": "@jupyter-widgets/controls",
          "model_name": "ProgressStyleModel",
          "state": {
            "_view_name": "StyleView",
            "_model_name": "ProgressStyleModel",
            "description_width": "initial",
            "_view_module": "@jupyter-widgets/base",
            "_model_module_version": "1.5.0",
            "_view_count": null,
            "_view_module_version": "1.2.0",
            "bar_color": null,
            "_model_module": "@jupyter-widgets/controls"
          }
        },
        "9c1766336677402eaedf91554eb89dcb": {
          "model_module": "@jupyter-widgets/base",
          "model_name": "LayoutModel",
          "state": {
            "_view_name": "LayoutView",
            "grid_template_rows": null,
            "right": null,
            "justify_content": null,
            "_view_module": "@jupyter-widgets/base",
            "overflow": null,
            "_model_module_version": "1.2.0",
            "_view_count": null,
            "flex_flow": null,
            "width": null,
            "min_width": null,
            "border": null,
            "align_items": null,
            "bottom": null,
            "_model_module": "@jupyter-widgets/base",
            "top": null,
            "grid_column": null,
            "overflow_y": null,
            "overflow_x": null,
            "grid_auto_flow": null,
            "grid_area": null,
            "grid_template_columns": null,
            "flex": null,
            "_model_name": "LayoutModel",
            "justify_items": null,
            "grid_row": null,
            "max_height": null,
            "align_content": null,
            "visibility": null,
            "align_self": null,
            "height": null,
            "min_height": null,
            "padding": null,
            "grid_auto_rows": null,
            "grid_gap": null,
            "max_width": null,
            "order": null,
            "_view_module_version": "1.2.0",
            "grid_template_areas": null,
            "object_position": null,
            "object_fit": null,
            "grid_auto_columns": null,
            "margin": null,
            "display": null,
            "left": null
          }
        },
        "0ee9d8be7af1419db2b44adcebf35332": {
          "model_module": "@jupyter-widgets/controls",
          "model_name": "DescriptionStyleModel",
          "state": {
            "_view_name": "StyleView",
            "_model_name": "DescriptionStyleModel",
            "description_width": "",
            "_view_module": "@jupyter-widgets/base",
            "_model_module_version": "1.5.0",
            "_view_count": null,
            "_view_module_version": "1.2.0",
            "_model_module": "@jupyter-widgets/controls"
          }
        },
        "60f298f62b3f4cacba729288a9e5bc21": {
          "model_module": "@jupyter-widgets/base",
          "model_name": "LayoutModel",
          "state": {
            "_view_name": "LayoutView",
            "grid_template_rows": null,
            "right": null,
            "justify_content": null,
            "_view_module": "@jupyter-widgets/base",
            "overflow": null,
            "_model_module_version": "1.2.0",
            "_view_count": null,
            "flex_flow": null,
            "width": null,
            "min_width": null,
            "border": null,
            "align_items": null,
            "bottom": null,
            "_model_module": "@jupyter-widgets/base",
            "top": null,
            "grid_column": null,
            "overflow_y": null,
            "overflow_x": null,
            "grid_auto_flow": null,
            "grid_area": null,
            "grid_template_columns": null,
            "flex": null,
            "_model_name": "LayoutModel",
            "justify_items": null,
            "grid_row": null,
            "max_height": null,
            "align_content": null,
            "visibility": null,
            "align_self": null,
            "height": null,
            "min_height": null,
            "padding": null,
            "grid_auto_rows": null,
            "grid_gap": null,
            "max_width": null,
            "order": null,
            "_view_module_version": "1.2.0",
            "grid_template_areas": null,
            "object_position": null,
            "object_fit": null,
            "grid_auto_columns": null,
            "margin": null,
            "display": null,
            "left": null
          }
        }
      }
    }
  },
  "cells": [
    {
      "cell_type": "code",
      "metadata": {
        "id": "-MorfcPnp7MW",
        "colab_type": "code",
        "outputId": "a8e2b836-c939-4fe7-b13c-c9bf1769968a",
        "colab": {
          "base_uri": "https://localhost:8080/",
          "height": 121
        }
      },
      "source": [
        "from google.colab import drive\n",
        "drive.mount('/content/dataset')"
      ],
      "execution_count": 1,
      "outputs": [
        {
          "output_type": "stream",
          "text": [
            "Go to this URL in a browser: https://accounts.google.com/o/oauth2/auth?client_id=947318989803-6bn6qk8qdgf4n4g3pfee6491hc0brc4i.apps.googleusercontent.com&redirect_uri=urn%3aietf%3awg%3aoauth%3a2.0%3aoob&response_type=code&scope=email%20https%3a%2f%2fwww.googleapis.com%2fauth%2fdocs.test%20https%3a%2f%2fwww.googleapis.com%2fauth%2fdrive%20https%3a%2f%2fwww.googleapis.com%2fauth%2fdrive.photos.readonly%20https%3a%2f%2fwww.googleapis.com%2fauth%2fpeopleapi.readonly\n",
            "\n",
            "Enter your authorization code:\n",
            "··········\n",
            "Mounted at /content/dataset\n"
          ],
          "name": "stdout"
        }
      ]
    },
    {
      "cell_type": "code",
      "metadata": {
        "id": "l6EQKq6ZqocD",
        "colab_type": "code",
        "outputId": "8232a36d-b037-4590-e84d-78564aeb2171",
        "colab": {
          "base_uri": "https://localhost:8080/",
          "height": 50
        }
      },
      "source": [
        "from zipfile import ZipFile \n",
        "file_name=\"/content/dataset/My Drive/dataset/test.zip\"\n",
        "file_name2=\"/content/dataset/My Drive/dataset/train.zip\"\n",
        "with ZipFile(file_name,'r') as zip:\n",
        "  zip.extractall()\n",
        "  print(\"extraction rèussi\")\n",
        "\n",
        "with ZipFile(file_name2,'r') as zip:\n",
        "  zip.extractall()\n",
        "  print(\"extraction rèussi\")  \n",
        "\n"
      ],
      "execution_count": 2,
      "outputs": [
        {
          "output_type": "stream",
          "text": [
            "extraction rèussi\n",
            "extraction rèussi\n"
          ],
          "name": "stdout"
        }
      ]
    },
    {
      "cell_type": "code",
      "metadata": {
        "id": "sPe_pGV4p3ip",
        "colab_type": "code",
        "colab": {}
      },
      "source": [
        ""
      ],
      "execution_count": 0,
      "outputs": []
    },
    {
      "cell_type": "markdown",
      "metadata": {
        "_uuid": "85f843b212ebbc7e7bbcc4e3fa406443c68cedd3",
        "id": "0-u-jwX-luly",
        "colab_type": "text"
      },
      "source": [
        "## Importing Basic Libraries and Installing Tools Required"
      ]
    },
    {
      "cell_type": "code",
      "metadata": {
        "_cell_guid": "79c7e3d0-c299-4dcb-8224-4455121ee9b0",
        "_uuid": "d629ff2d2480ee46fbb7e2d37f6b5fab8052498a",
        "scrolled": true,
        "id": "dinWlJz2lulz",
        "colab_type": "code",
        "outputId": "e10799b3-54a4-4856-916c-c5639ae83c1c",
        "colab": {
          "base_uri": "https://localhost:8080/",
          "height": 222
        }
      },
      "source": [
        "!pip install memory_profiler\n",
        "%tensorflow_version 1.x\n",
        "import tensorflow as tf\n",
        "%matplotlib inline\n",
        "from memory_profiler import memory_usage\n",
        "import os\n",
        "import pandas as pd\n",
        "from glob import glob\n",
        "import numpy as np"
      ],
      "execution_count": 3,
      "outputs": [
        {
          "output_type": "stream",
          "text": [
            "Collecting memory_profiler\n",
            "  Downloading https://files.pythonhosted.org/packages/f4/03/175d380294b2333b9b79c2f2aa235eb90ee95e3ddef644497a9455404312/memory_profiler-0.57.0.tar.gz\n",
            "Requirement already satisfied: psutil in /usr/local/lib/python3.6/dist-packages (from memory_profiler) (5.4.8)\n",
            "Building wheels for collected packages: memory-profiler\n",
            "  Building wheel for memory-profiler (setup.py) ... \u001b[?25l\u001b[?25hdone\n",
            "  Created wheel for memory-profiler: filename=memory_profiler-0.57.0-cp36-none-any.whl size=28992 sha256=605d4b5ec594f6860bae05f895ab2fbae666046ef02986cc5c6edaa254a41ced\n",
            "  Stored in directory: /root/.cache/pip/wheels/74/20/b5/20964ef97be73d2c3a695c9cad7bccd96d1e3e737a8163861f\n",
            "Successfully built memory-profiler\n",
            "Installing collected packages: memory-profiler\n",
            "Successfully installed memory-profiler-0.57.0\n",
            "TensorFlow 1.x selected.\n"
          ],
          "name": "stdout"
        }
      ]
    },
    {
      "cell_type": "markdown",
      "metadata": {
        "_uuid": "09271a053e281dfc16252926dd1bad77ce7bbbc0",
        "id": "YiTkekxdlul2",
        "colab_type": "text"
      },
      "source": [
        "\n",
        "### Installing libav-tools to get Librosa Working Properly"
      ]
    },
    {
      "cell_type": "code",
      "metadata": {
        "_uuid": "e65b0eb0077460f117a3148493ad887ac7e6037e",
        "id": "fv-N1-IUlul3",
        "colab_type": "code",
        "colab": {}
      },
      "source": [
        "%%capture\n",
        "!apt-get install libav-tools -y"
      ],
      "execution_count": 0,
      "outputs": []
    },
    {
      "cell_type": "markdown",
      "metadata": {
        "_uuid": "3daa5ab32c049dce1fec83d8c180d62b7f523a2f",
        "id": "rcozxhO_lul5",
        "colab_type": "text"
      },
      "source": [
        "### Importing Fast.ai for Deep Learning and Librosa for Creating Spectrogram"
      ]
    },
    {
      "cell_type": "code",
      "metadata": {
        "_uuid": "b7f4ca234dc0f182b0738eda27f7a8d913624779",
        "id": "3fGZh1nglul6",
        "colab_type": "code",
        "colab": {}
      },
      "source": [
        "from fastai.vision import *\n",
        "import librosa\n",
        "import librosa.display\n",
        "import pylab\n",
        "import matplotlib\n",
        "import gc"
      ],
      "execution_count": 0,
      "outputs": []
    },
    {
      "cell_type": "markdown",
      "metadata": {
        "_uuid": "6a4d7f4b7e3ebbb578f380be6ef9e8a601f2d629",
        "id": "TBGmXVRwlul8",
        "colab_type": "text"
      },
      "source": [
        "### Making Temporary Working Directories for Storing the Audio Conversions"
      ]
    },
    {
      "cell_type": "markdown",
      "metadata": {
        "_uuid": "f3b5f32ecf6ba74a889e271a974a6e5f372871e8",
        "id": "mP8jusCPlumA",
        "colab_type": "text"
      },
      "source": [
        "## Defining the Create Spectrogram Function"
      ]
    },
    {
      "cell_type": "code",
      "metadata": {
        "_uuid": "95e214ba7b173fd9e5d8b0f4f8d69e09ad657630",
        "id": "EjbMsjwClumB",
        "colab_type": "code",
        "colab": {}
      },
      "source": [
        "def create_spectrogram(filename,name):\n",
        "    plt.interactive(False)\n",
        "    clip, sample_rate = librosa.load(filename, sr=None)\n",
        "    fig = plt.figure(figsize=[0.72,0.72])\n",
        "    ax = fig.add_subplot(111)\n",
        "    ax.axes.get_xaxis().set_visible(False)\n",
        "    ax.axes.get_yaxis().set_visible(False)\n",
        "    ax.set_frame_on(False)\n",
        "    S = librosa.feature.melspectrogram(y=clip, sr=sample_rate)\n",
        "    librosa.display.specshow(librosa.power_to_db(S, ref=np.max))\n",
        "    filename  = Path('/content/working/train/' + name + '.jpg')\n",
        "    plt.savefig(filename, dpi=400, bbox_inches='tight',pad_inches=0)\n",
        "    plt.close()    \n",
        "    fig.clf()\n",
        "    plt.close(fig)\n",
        "    plt.close('all')\n",
        "    del filename,name,clip,sample_rate,fig,ax,S"
      ],
      "execution_count": 0,
      "outputs": []
    },
    {
      "cell_type": "code",
      "metadata": {
        "_uuid": "b58e9171499d4b39992318a0a039e617626e9d2a",
        "id": "Ixrwdlw4lumD",
        "colab_type": "code",
        "colab": {}
      },
      "source": [
        "def create_spectrogram_test(filename,name):\n",
        "    plt.interactive(False)\n",
        "    clip, sample_rate = librosa.load(filename, sr=None)\n",
        "    fig = plt.figure(figsize=[0.72,0.72])\n",
        "    ax = fig.add_subplot(111)\n",
        "    ax.axes.get_xaxis().set_visible(False)\n",
        "    ax.axes.get_yaxis().set_visible(False)\n",
        "    ax.set_frame_on(False)\n",
        "    S = librosa.feature.melspectrogram(y=clip, sr=sample_rate)\n",
        "    librosa.display.specshow(librosa.power_to_db(S, ref=np.max))\n",
        "    filename  = Path('/content/working/test/'+ name + '.jpg')\n",
        "    plt.savefig(filename, dpi=400, bbox_inches='tight',pad_inches=0)\n",
        "    plt.close()    \n",
        "    fig.clf()\n",
        "    plt.close(fig)\n",
        "    plt.close('all')\n",
        "    del filename,name,clip,sample_rate,fig,ax,S"
      ],
      "execution_count": 0,
      "outputs": []
    },
    {
      "cell_type": "markdown",
      "metadata": {
        "_uuid": "d9ce2e26375972e09b895aad8cd2ae146470a23e",
        "id": "8K5rIfC4lumG",
        "colab_type": "text"
      },
      "source": [
        "### Splitting the Conversion in different cells and collecting the garbage to avoid Ram Overflow"
      ]
    },
    {
      "cell_type": "code",
      "metadata": {
        "_uuid": "c6099dc3c5fc83b4108bf4e1fe7f84ef3c923779",
        "id": "_zy8ML3OlumG",
        "colab_type": "code",
        "colab": {}
      },
      "source": [
        "Data_dir=np.array(glob(\"/content/Train/*\"))"
      ],
      "execution_count": 0,
      "outputs": []
    },
    {
      "cell_type": "code",
      "metadata": {
        "_uuid": "03413a7044c5428c3e882a449eff2aa47851b181",
        "id": "aX7svHnnlumJ",
        "colab_type": "code",
        "colab": {}
      },
      "source": [
        "%load_ext memory_profiler"
      ],
      "execution_count": 0,
      "outputs": []
    },
    {
      "cell_type": "code",
      "metadata": {
        "_uuid": "7159f9cebe7d3b61baf3bf155610055d67e214d4",
        "scrolled": true,
        "id": "ZuE_b5pFlumL",
        "colab_type": "code",
        "outputId": "cdd5a386-cd4c-4251-cffd-9f7c56995062",
        "colab": {
          "base_uri": "https://localhost:8080/",
          "height": 34
        }
      },
      "source": [
        "%memit \n",
        "i=0\n",
        "for file in Data_dir[i:i+1500]:\n",
        "    filename,name = file,file.split('/')[-1].split('.')[0]\n",
        "    create_spectrogram(filename,name)"
      ],
      "execution_count": 10,
      "outputs": [
        {
          "output_type": "stream",
          "text": [
            "peak memory: 547.49 MiB, increment: 0.05 MiB\n"
          ],
          "name": "stdout"
        }
      ]
    },
    {
      "cell_type": "code",
      "metadata": {
        "_uuid": "b784ca29e912ef683e05bd99040ffed9f99b94f2",
        "id": "K4w8dCa5lumO",
        "colab_type": "code",
        "outputId": "e45b3a43-a6ba-4930-ddde-d6d0456ad009",
        "colab": {
          "base_uri": "https://localhost:8080/",
          "height": 34
        }
      },
      "source": [
        "gc.collect()"
      ],
      "execution_count": 11,
      "outputs": [
        {
          "output_type": "execute_result",
          "data": {
            "text/plain": [
              "21918"
            ]
          },
          "metadata": {
            "tags": []
          },
          "execution_count": 11
        }
      ]
    },
    {
      "cell_type": "code",
      "metadata": {
        "_uuid": "3e5503be15c42d8f989346789df267331184994b",
        "scrolled": true,
        "id": "_mNtTe9hlumR",
        "colab_type": "code",
        "outputId": "7214972f-0d32-4052-8815-750559e1d4c7",
        "colab": {
          "base_uri": "https://localhost:8080/",
          "height": 34
        }
      },
      "source": [
        "%memit \n",
        "i=1500\n",
        "for file in Data_dir[i:i+1500]:\n",
        "    filename,name = file,file.split('/')[-1].split('.')[0]\n",
        "    create_spectrogram(filename,name)"
      ],
      "execution_count": 12,
      "outputs": [
        {
          "output_type": "stream",
          "text": [
            "peak memory: 673.02 MiB, increment: 0.00 MiB\n"
          ],
          "name": "stdout"
        }
      ]
    },
    {
      "cell_type": "code",
      "metadata": {
        "_uuid": "61ddd53c496bb225caeea1ee3fc56bd6a438ea4a",
        "id": "A-8Jn_t3lumT",
        "colab_type": "code",
        "outputId": "74e7a055-a480-42f0-a7f4-5549c0bda377",
        "colab": {
          "base_uri": "https://localhost:8080/",
          "height": 34
        }
      },
      "source": [
        "gc.collect()"
      ],
      "execution_count": 13,
      "outputs": [
        {
          "output_type": "execute_result",
          "data": {
            "text/plain": [
              "20232"
            ]
          },
          "metadata": {
            "tags": []
          },
          "execution_count": 13
        }
      ]
    },
    {
      "cell_type": "code",
      "metadata": {
        "_uuid": "c4d5b9f808e4b9ce93c76e3ebd2f41684cd52507",
        "scrolled": true,
        "id": "HOgj2kBLlumV",
        "colab_type": "code",
        "outputId": "9f0aca96-6d06-49c5-bf4f-b9b65c1ee5f2",
        "colab": {
          "base_uri": "https://localhost:8080/",
          "height": 34
        }
      },
      "source": [
        "%memit \n",
        "i=3000\n",
        "for file in Data_dir[i:i+1500]:\n",
        "    filename,name = file,file.split('/')[-1].split('.')[0]\n",
        "    create_spectrogram(filename,name)"
      ],
      "execution_count": 14,
      "outputs": [
        {
          "output_type": "stream",
          "text": [
            "peak memory: 673.97 MiB, increment: 0.00 MiB\n"
          ],
          "name": "stdout"
        }
      ]
    },
    {
      "cell_type": "code",
      "metadata": {
        "_uuid": "0c42a93f7f14d8ff04090cddec3e5f7c6864a7f1",
        "id": "ama-c6JXlumX",
        "colab_type": "code",
        "outputId": "21ad02b4-9ab6-46bc-d617-d1ccf6eb20ad",
        "colab": {
          "base_uri": "https://localhost:8080/",
          "height": 34
        }
      },
      "source": [
        "gc.collect()"
      ],
      "execution_count": 15,
      "outputs": [
        {
          "output_type": "execute_result",
          "data": {
            "text/plain": [
              "20232"
            ]
          },
          "metadata": {
            "tags": []
          },
          "execution_count": 15
        }
      ]
    },
    {
      "cell_type": "code",
      "metadata": {
        "_uuid": "fbbd2e78bd69f5c655f13d999b34c290ac42ed20",
        "scrolled": true,
        "id": "o2VQNCfglumZ",
        "colab_type": "code",
        "outputId": "0e587362-e980-4e5f-fde0-f599dfe04c5d",
        "colab": {
          "base_uri": "https://localhost:8080/",
          "height": 34
        }
      },
      "source": [
        "%%memit \n",
        "i=4500\n",
        "for file in Data_dir[i:]:\n",
        "    filename,name = file,file.split('/')[-1].split('.')[0]\n",
        "    create_spectrogram(filename,name)"
      ],
      "execution_count": 16,
      "outputs": [
        {
          "output_type": "stream",
          "text": [
            "peak memory: 687.21 MiB, increment: 4.51 MiB\n"
          ],
          "name": "stdout"
        }
      ]
    },
    {
      "cell_type": "code",
      "metadata": {
        "_uuid": "3cf0b7703f75279d9b436c440a7db61887366a1a",
        "id": "QkMi6q_klumc",
        "colab_type": "code",
        "outputId": "a79755ab-3747-43fd-be60-e8cf6e5dc9dc",
        "colab": {
          "base_uri": "https://localhost:8080/",
          "height": 34
        }
      },
      "source": [
        "gc.collect()"
      ],
      "execution_count": 17,
      "outputs": [
        {
          "output_type": "execute_result",
          "data": {
            "text/plain": [
              "8430"
            ]
          },
          "metadata": {
            "tags": []
          },
          "execution_count": 17
        }
      ]
    },
    {
      "cell_type": "markdown",
      "metadata": {
        "_uuid": "63b48f95754e02b69978cd19151edaafc90d03f5",
        "id": "IMZE6aLvlume",
        "colab_type": "text"
      },
      "source": [
        "## Creating Data Bunch for Training and Creating a Resnet34 Model"
      ]
    },
    {
      "cell_type": "code",
      "metadata": {
        "_uuid": "11e7773bb54aa2515a71519153286b544a4c7e97",
        "id": "rF3eeXuelumf",
        "colab_type": "code",
        "colab": {}
      },
      "source": [
        "path = Path('/content/working/')\n",
        "np.random.seed(42)\n",
        "data = ImageDataBunch.from_csv(path,csv_labels='/content/train.csv', folder=\"train\", valid_pct=0.2, suffix='.jpg',\n",
        "        ds_tfms=get_transforms(), size=224, num_workers=0).normalize(imagenet_stats)"
      ],
      "execution_count": 0,
      "outputs": []
    },
    {
      "cell_type": "code",
      "metadata": {
        "_uuid": "478304196c9f307029f1863b299ac939e47ea445",
        "id": "bn8Fl3k0lumg",
        "colab_type": "code",
        "outputId": "96a17992-e90a-486a-e9e3-ebace5260d12",
        "colab": {}
      },
      "source": [
        "data.classes"
      ],
      "execution_count": 0,
      "outputs": [
        {
          "output_type": "execute_result",
          "data": {
            "text/plain": [
              "['air_conditioner',\n",
              " 'car_horn',\n",
              " 'children_playing',\n",
              " 'dog_bark',\n",
              " 'drilling',\n",
              " 'engine_idling',\n",
              " 'gun_shot',\n",
              " 'jackhammer',\n",
              " 'siren',\n",
              " 'street_music']"
            ]
          },
          "metadata": {
            "tags": []
          },
          "execution_count": 18
        }
      ]
    },
    {
      "cell_type": "code",
      "metadata": {
        "_uuid": "aaba3bf78e567a70fdc6be55f590b43908cc8101",
        "id": "96ghTzAplumi",
        "colab_type": "code",
        "outputId": "33e2b061-393d-4bf8-9f71-d46461c3265c",
        "colab": {
          "base_uri": "https://localhost:8080/",
          "height": 116,
          "referenced_widgets": [
            "d179a2524ea9441eb6dacc78f4a7443c",
            "338d7f64d1ce44789c0ed2d717c6716d",
            "ed9e495bdec84f5582abb18a60e6ef77",
            "7a108c63c36649efa43c6409533004a5",
            "ea6e44f431d4448d91ff9e50c704512b",
            "9c1766336677402eaedf91554eb89dcb",
            "0ee9d8be7af1419db2b44adcebf35332",
            "60f298f62b3f4cacba729288a9e5bc21"
          ]
        }
      },
      "source": [
        "learn = create_cnn(data, models.resnet34, metrics=accuracy)"
      ],
      "execution_count": 19,
      "outputs": [
        {
          "output_type": "stream",
          "text": [
            "/usr/local/lib/python3.6/dist-packages/fastai/vision/learner.py:106: UserWarning: `create_cnn` is deprecated and is now named `cnn_learner`.\n",
            "  warn(\"`create_cnn` is deprecated and is now named `cnn_learner`.\")\n",
            "Downloading: \"https://download.pytorch.org/models/resnet34-333f7ec4.pth\" to /root/.cache/torch/checkpoints/resnet34-333f7ec4.pth\n"
          ],
          "name": "stderr"
        },
        {
          "output_type": "display_data",
          "data": {
            "application/vnd.jupyter.widget-view+json": {
              "model_id": "d179a2524ea9441eb6dacc78f4a7443c",
              "version_minor": 0,
              "version_major": 2
            },
            "text/plain": [
              "HBox(children=(IntProgress(value=0, max=87306240), HTML(value='')))"
            ]
          },
          "metadata": {
            "tags": []
          }
        },
        {
          "output_type": "stream",
          "text": [
            "\n"
          ],
          "name": "stdout"
        }
      ]
    },
    {
      "cell_type": "markdown",
      "metadata": {
        "_uuid": "e8938e47527547c64f1ead14506a2ebef75432cc",
        "id": "5f9USNhDlumk",
        "colab_type": "text"
      },
      "source": [
        "## Training The Model"
      ]
    },
    {
      "cell_type": "code",
      "metadata": {
        "_uuid": "514f0287b57f373daca6d9cfa378063902afb198",
        "id": "Wf-U6ZBPlumk",
        "colab_type": "code",
        "outputId": "d0915961-574e-4cfd-e296-a628c1de46b9",
        "colab": {
          "base_uri": "https://localhost:8080/",
          "height": 166
        }
      },
      "source": [
        "learn.fit_one_cycle(4)"
      ],
      "execution_count": 20,
      "outputs": [
        {
          "output_type": "display_data",
          "data": {
            "text/html": [
              "<table border=\"1\" class=\"dataframe\">\n",
              "  <thead>\n",
              "    <tr style=\"text-align: left;\">\n",
              "      <th>epoch</th>\n",
              "      <th>train_loss</th>\n",
              "      <th>valid_loss</th>\n",
              "      <th>accuracy</th>\n",
              "      <th>time</th>\n",
              "    </tr>\n",
              "  </thead>\n",
              "  <tbody>\n",
              "    <tr>\n",
              "      <td>0</td>\n",
              "      <td>1.877404</td>\n",
              "      <td>0.866809</td>\n",
              "      <td>0.702852</td>\n",
              "      <td>01:01</td>\n",
              "    </tr>\n",
              "    <tr>\n",
              "      <td>1</td>\n",
              "      <td>1.225588</td>\n",
              "      <td>0.663163</td>\n",
              "      <td>0.771849</td>\n",
              "      <td>01:00</td>\n",
              "    </tr>\n",
              "    <tr>\n",
              "      <td>2</td>\n",
              "      <td>0.886054</td>\n",
              "      <td>0.562463</td>\n",
              "      <td>0.816007</td>\n",
              "      <td>00:59</td>\n",
              "    </tr>\n",
              "    <tr>\n",
              "      <td>3</td>\n",
              "      <td>0.756956</td>\n",
              "      <td>0.529082</td>\n",
              "      <td>0.819687</td>\n",
              "      <td>00:59</td>\n",
              "    </tr>\n",
              "  </tbody>\n",
              "</table>"
            ],
            "text/plain": [
              "<IPython.core.display.HTML object>"
            ]
          },
          "metadata": {
            "tags": []
          }
        }
      ]
    },
    {
      "cell_type": "code",
      "metadata": {
        "_uuid": "ceed93c068f063d493d9e8f215ad79c4c56d5faa",
        "id": "pF8Ro7tXlumm",
        "colab_type": "code",
        "colab": {}
      },
      "source": [
        "learn.save('stage-1')"
      ],
      "execution_count": 0,
      "outputs": []
    },
    {
      "cell_type": "code",
      "metadata": {
        "_uuid": "5864e90df6e03f75e352e07f54060fc39ecaebd6",
        "id": "MbK1P7Q8lumo",
        "colab_type": "code",
        "outputId": "83b54c7d-e451-44ad-b7ba-f60184e68982",
        "colab": {
          "base_uri": "https://localhost:8080/",
          "height": 140
        }
      },
      "source": [
        "learn.unfreeze()\n",
        "learn.lr_find()\n",
        "learn.recorder.plot()"
      ],
      "execution_count": 22,
      "outputs": [
        {
          "output_type": "display_data",
          "data": {
            "text/html": [
              "\n",
              "    <div>\n",
              "        <style>\n",
              "            /* Turns off some styling */\n",
              "            progress {\n",
              "                /* gets rid of default border in Firefox and Opera. */\n",
              "                border: none;\n",
              "                /* Needs to be in here for Safari polyfill so background images work as expected. */\n",
              "                background-size: auto;\n",
              "            }\n",
              "            .progress-bar-interrupted, .progress-bar-interrupted::-webkit-progress-bar {\n",
              "                background: #F44336;\n",
              "            }\n",
              "        </style>\n",
              "      <progress value='1' class='' max='2' style='width:300px; height:20px; vertical-align: middle;'></progress>\n",
              "      50.00% [1/2 01:00<01:00]\n",
              "    </div>\n",
              "    \n",
              "<table border=\"1\" class=\"dataframe\">\n",
              "  <thead>\n",
              "    <tr style=\"text-align: left;\">\n",
              "      <th>epoch</th>\n",
              "      <th>train_loss</th>\n",
              "      <th>valid_loss</th>\n",
              "      <th>accuracy</th>\n",
              "      <th>time</th>\n",
              "    </tr>\n",
              "  </thead>\n",
              "  <tbody>\n",
              "    <tr>\n",
              "      <td>0</td>\n",
              "      <td>1.073375</td>\n",
              "      <td>#na#</td>\n",
              "      <td>01:00</td>\n",
              "    </tr>\n",
              "  </tbody>\n",
              "</table><p>\n",
              "\n",
              "    <div>\n",
              "        <style>\n",
              "            /* Turns off some styling */\n",
              "            progress {\n",
              "                /* gets rid of default border in Firefox and Opera. */\n",
              "                border: none;\n",
              "                /* Needs to be in here for Safari polyfill so background images work as expected. */\n",
              "                background-size: auto;\n",
              "            }\n",
              "            .progress-bar-interrupted, .progress-bar-interrupted::-webkit-progress-bar {\n",
              "                background: #F44336;\n",
              "            }\n",
              "        </style>\n",
              "      <progress value='13' class='' max='67' style='width:300px; height:20px; vertical-align: middle;'></progress>\n",
              "      19.40% [13/67 00:11<00:47 2.1040]\n",
              "    </div>\n",
              "    "
            ],
            "text/plain": [
              "<IPython.core.display.HTML object>"
            ]
          },
          "metadata": {
            "tags": []
          }
        },
        {
          "output_type": "stream",
          "text": [
            "LR Finder is complete, type {learner_name}.recorder.plot() to see the graph.\n"
          ],
          "name": "stdout"
        }
      ]
    },
    {
      "cell_type": "code",
      "metadata": {
        "_uuid": "d3d162626df53b0415fde28fdceb3e687f0fb8ff",
        "id": "ZVdWBMlLlumq",
        "colab_type": "code",
        "outputId": "43fe86c9-f95b-4511-a652-1d46eb93e0ec",
        "colab": {
          "base_uri": "https://localhost:8080/",
          "height": 166
        }
      },
      "source": [
        "learn.fit_one_cycle(4, max_lr=slice(1e-4,1e-3))"
      ],
      "execution_count": 23,
      "outputs": [
        {
          "output_type": "display_data",
          "data": {
            "text/html": [
              "<table border=\"1\" class=\"dataframe\">\n",
              "  <thead>\n",
              "    <tr style=\"text-align: left;\">\n",
              "      <th>epoch</th>\n",
              "      <th>train_loss</th>\n",
              "      <th>valid_loss</th>\n",
              "      <th>accuracy</th>\n",
              "      <th>time</th>\n",
              "    </tr>\n",
              "  </thead>\n",
              "  <tbody>\n",
              "    <tr>\n",
              "      <td>0</td>\n",
              "      <td>0.590528</td>\n",
              "      <td>0.494499</td>\n",
              "      <td>0.852806</td>\n",
              "      <td>01:06</td>\n",
              "    </tr>\n",
              "    <tr>\n",
              "      <td>1</td>\n",
              "      <td>0.472383</td>\n",
              "      <td>0.373440</td>\n",
              "      <td>0.885925</td>\n",
              "      <td>01:06</td>\n",
              "    </tr>\n",
              "    <tr>\n",
              "      <td>2</td>\n",
              "      <td>0.278796</td>\n",
              "      <td>0.198899</td>\n",
              "      <td>0.934683</td>\n",
              "      <td>01:07</td>\n",
              "    </tr>\n",
              "    <tr>\n",
              "      <td>3</td>\n",
              "      <td>0.165708</td>\n",
              "      <td>0.142852</td>\n",
              "      <td>0.955842</td>\n",
              "      <td>01:07</td>\n",
              "    </tr>\n",
              "  </tbody>\n",
              "</table>"
            ],
            "text/plain": [
              "<IPython.core.display.HTML object>"
            ]
          },
          "metadata": {
            "tags": []
          }
        }
      ]
    },
    {
      "cell_type": "code",
      "metadata": {
        "_uuid": "3913c55bd52ffe17ce9fa4520c4e5c0052696dc0",
        "id": "0YhACC9flums",
        "colab_type": "code",
        "colab": {}
      },
      "source": [
        "learn.save('stage-2')"
      ],
      "execution_count": 0,
      "outputs": []
    },
    {
      "cell_type": "code",
      "metadata": {
        "_uuid": "9efd56784c3a58be9b05a9c02996fadb747291d4",
        "id": "DfOJivmZlumu",
        "colab_type": "code",
        "outputId": "2fa5e450-e6f0-403a-b301-d5b850d6b48f",
        "colab": {
          "base_uri": "https://localhost:8080/",
          "height": 110
        }
      },
      "source": [
        "learn.lr_find()\n",
        "learn.recorder.plot()"
      ],
      "execution_count": 25,
      "outputs": [
        {
          "output_type": "display_data",
          "data": {
            "text/html": [
              "\n",
              "    <div>\n",
              "        <style>\n",
              "            /* Turns off some styling */\n",
              "            progress {\n",
              "                /* gets rid of default border in Firefox and Opera. */\n",
              "                border: none;\n",
              "                /* Needs to be in here for Safari polyfill so background images work as expected. */\n",
              "                background-size: auto;\n",
              "            }\n",
              "            .progress-bar-interrupted, .progress-bar-interrupted::-webkit-progress-bar {\n",
              "                background: #F44336;\n",
              "            }\n",
              "        </style>\n",
              "      <progress value='0' class='' max='2' style='width:300px; height:20px; vertical-align: middle;'></progress>\n",
              "      0.00% [0/2 00:00<00:00]\n",
              "    </div>\n",
              "    \n",
              "<table border=\"1\" class=\"dataframe\">\n",
              "  <thead>\n",
              "    <tr style=\"text-align: left;\">\n",
              "      <th>epoch</th>\n",
              "      <th>train_loss</th>\n",
              "      <th>valid_loss</th>\n",
              "      <th>accuracy</th>\n",
              "      <th>time</th>\n",
              "    </tr>\n",
              "  </thead>\n",
              "  <tbody>\n",
              "  </tbody>\n",
              "</table><p>\n",
              "\n",
              "    <div>\n",
              "        <style>\n",
              "            /* Turns off some styling */\n",
              "            progress {\n",
              "                /* gets rid of default border in Firefox and Opera. */\n",
              "                border: none;\n",
              "                /* Needs to be in here for Safari polyfill so background images work as expected. */\n",
              "                background-size: auto;\n",
              "            }\n",
              "            .progress-bar-interrupted, .progress-bar-interrupted::-webkit-progress-bar {\n",
              "                background: #F44336;\n",
              "            }\n",
              "        </style>\n",
              "      <progress value='59' class='' max='67' style='width:300px; height:20px; vertical-align: middle;'></progress>\n",
              "      88.06% [59/67 00:53<00:07 0.3097]\n",
              "    </div>\n",
              "    "
            ],
            "text/plain": [
              "<IPython.core.display.HTML object>"
            ]
          },
          "metadata": {
            "tags": []
          }
        },
        {
          "output_type": "stream",
          "text": [
            "LR Finder is complete, type {learner_name}.recorder.plot() to see the graph.\n"
          ],
          "name": "stdout"
        }
      ]
    },
    {
      "cell_type": "code",
      "metadata": {
        "_uuid": "faeafc7dee56ed2e12b4105907ee4bc994ee6123",
        "id": "7cQOhxA6lumw",
        "colab_type": "code",
        "outputId": "3133ae33-072e-4f77-a562-b1aa36f1d546",
        "colab": {
          "base_uri": "https://localhost:8080/",
          "height": 77
        }
      },
      "source": [
        "learn.fit_one_cycle(1, max_lr=slice(1e-6,2e-6))"
      ],
      "execution_count": 26,
      "outputs": [
        {
          "output_type": "display_data",
          "data": {
            "text/html": [
              "<table border=\"1\" class=\"dataframe\">\n",
              "  <thead>\n",
              "    <tr style=\"text-align: left;\">\n",
              "      <th>epoch</th>\n",
              "      <th>train_loss</th>\n",
              "      <th>valid_loss</th>\n",
              "      <th>accuracy</th>\n",
              "      <th>time</th>\n",
              "    </tr>\n",
              "  </thead>\n",
              "  <tbody>\n",
              "    <tr>\n",
              "      <td>0</td>\n",
              "      <td>0.106049</td>\n",
              "      <td>0.131843</td>\n",
              "      <td>0.962282</td>\n",
              "      <td>01:07</td>\n",
              "    </tr>\n",
              "  </tbody>\n",
              "</table>"
            ],
            "text/plain": [
              "<IPython.core.display.HTML object>"
            ]
          },
          "metadata": {
            "tags": []
          }
        }
      ]
    },
    {
      "cell_type": "code",
      "metadata": {
        "_uuid": "87d089f723dc5a2e4d5e9f76146e3d3f3f96d9a6",
        "id": "ef6dUTiolumz",
        "colab_type": "code",
        "colab": {}
      },
      "source": [
        "learn.save('stage-3')"
      ],
      "execution_count": 0,
      "outputs": []
    },
    {
      "cell_type": "code",
      "metadata": {
        "_uuid": "f1a7b41b52874b12962a6e95dede0c5f1a7ecbb0",
        "id": "8bcau-orlum1",
        "colab_type": "code",
        "colab": {}
      },
      "source": [
        "Test_dir=np.array(glob(\"/content/Test/*\"))"
      ],
      "execution_count": 0,
      "outputs": []
    },
    {
      "cell_type": "code",
      "metadata": {
        "_uuid": "5d6dc7004c1f41552bbac9d70b985c8abe11d8ad",
        "id": "OOPdM0Aklum3",
        "colab_type": "code",
        "outputId": "4d85dc4c-7b41-4f20-acdd-b7c53c993ad7",
        "colab": {
          "base_uri": "https://localhost:8080/",
          "height": 356
        }
      },
      "source": [
        "%%memit \n",
        "i=0\n",
        "for file in Test_dir[i:i+1500]:\n",
        "    filename,name = file,file.split('/')[-1].split('.')[0]\n",
        "    create_spectrogram_test(filename,name)"
      ],
      "execution_count": 29,
      "outputs": [
        {
          "output_type": "stream",
          "text": [
            "/usr/local/lib/python3.6/dist-packages/librosa/filters.py:284: UserWarning: Empty filters detected in mel frequency basis. Some channels will produce empty responses. Try increasing your sampling rate (and fmax) or reducing n_mels.\n",
            "  warnings.warn('Empty filters detected in mel frequency basis. '\n",
            "/usr/local/lib/python3.6/dist-packages/librosa/filters.py:284: UserWarning: Empty filters detected in mel frequency basis. Some channels will produce empty responses. Try increasing your sampling rate (and fmax) or reducing n_mels.\n",
            "  warnings.warn('Empty filters detected in mel frequency basis. '\n",
            "/usr/local/lib/python3.6/dist-packages/librosa/filters.py:284: UserWarning: Empty filters detected in mel frequency basis. Some channels will produce empty responses. Try increasing your sampling rate (and fmax) or reducing n_mels.\n",
            "  warnings.warn('Empty filters detected in mel frequency basis. '\n",
            "/usr/local/lib/python3.6/dist-packages/librosa/filters.py:284: UserWarning: Empty filters detected in mel frequency basis. Some channels will produce empty responses. Try increasing your sampling rate (and fmax) or reducing n_mels.\n",
            "  warnings.warn('Empty filters detected in mel frequency basis. '\n",
            "/usr/local/lib/python3.6/dist-packages/librosa/filters.py:284: UserWarning: Empty filters detected in mel frequency basis. Some channels will produce empty responses. Try increasing your sampling rate (and fmax) or reducing n_mels.\n",
            "  warnings.warn('Empty filters detected in mel frequency basis. '\n",
            "/usr/local/lib/python3.6/dist-packages/librosa/filters.py:284: UserWarning: Empty filters detected in mel frequency basis. Some channels will produce empty responses. Try increasing your sampling rate (and fmax) or reducing n_mels.\n",
            "  warnings.warn('Empty filters detected in mel frequency basis. '\n",
            "/usr/local/lib/python3.6/dist-packages/librosa/filters.py:284: UserWarning: Empty filters detected in mel frequency basis. Some channels will produce empty responses. Try increasing your sampling rate (and fmax) or reducing n_mels.\n",
            "  warnings.warn('Empty filters detected in mel frequency basis. '\n",
            "/usr/local/lib/python3.6/dist-packages/librosa/filters.py:284: UserWarning: Empty filters detected in mel frequency basis. Some channels will produce empty responses. Try increasing your sampling rate (and fmax) or reducing n_mels.\n",
            "  warnings.warn('Empty filters detected in mel frequency basis. '\n",
            "/usr/local/lib/python3.6/dist-packages/librosa/filters.py:284: UserWarning: Empty filters detected in mel frequency basis. Some channels will produce empty responses. Try increasing your sampling rate (and fmax) or reducing n_mels.\n",
            "  warnings.warn('Empty filters detected in mel frequency basis. '\n"
          ],
          "name": "stderr"
        },
        {
          "output_type": "stream",
          "text": [
            "peak memory: 2931.05 MiB, increment: 46.53 MiB\n"
          ],
          "name": "stdout"
        }
      ]
    },
    {
      "cell_type": "code",
      "metadata": {
        "_uuid": "6d8439b0b8439235b96e23ecd8cb7a7fbadd1c9b",
        "id": "NgCZ0qDtlum5",
        "colab_type": "code",
        "outputId": "80152c05-0866-40d7-e22b-039b3b1bbbc6",
        "colab": {
          "base_uri": "https://localhost:8080/",
          "height": 34
        }
      },
      "source": [
        "gc.collect()"
      ],
      "execution_count": 30,
      "outputs": [
        {
          "output_type": "execute_result",
          "data": {
            "text/plain": [
              "47208"
            ]
          },
          "metadata": {
            "tags": []
          },
          "execution_count": 30
        }
      ]
    },
    {
      "cell_type": "code",
      "metadata": {
        "_uuid": "b30170499762fac307908b7ede5fb4852ead9747",
        "id": "oFggQryZlum7",
        "colab_type": "code",
        "outputId": "3b4e49c2-99a8-4ee8-d02d-0a3b34c54d2d",
        "colab": {
          "base_uri": "https://localhost:8080/",
          "height": 322
        }
      },
      "source": [
        "%%memit \n",
        "i=1500\n",
        "for file in Test_dir[i:]:\n",
        "    filename,name = file,file.split('/')[-1].split('.')[0]\n",
        "    create_spectrogram_test(filename,name)"
      ],
      "execution_count": 31,
      "outputs": [
        {
          "output_type": "stream",
          "text": [
            "/usr/local/lib/python3.6/dist-packages/librosa/filters.py:284: UserWarning: Empty filters detected in mel frequency basis. Some channels will produce empty responses. Try increasing your sampling rate (and fmax) or reducing n_mels.\n",
            "  warnings.warn('Empty filters detected in mel frequency basis. '\n",
            "/usr/local/lib/python3.6/dist-packages/librosa/filters.py:284: UserWarning: Empty filters detected in mel frequency basis. Some channels will produce empty responses. Try increasing your sampling rate (and fmax) or reducing n_mels.\n",
            "  warnings.warn('Empty filters detected in mel frequency basis. '\n",
            "/usr/local/lib/python3.6/dist-packages/librosa/filters.py:284: UserWarning: Empty filters detected in mel frequency basis. Some channels will produce empty responses. Try increasing your sampling rate (and fmax) or reducing n_mels.\n",
            "  warnings.warn('Empty filters detected in mel frequency basis. '\n",
            "/usr/local/lib/python3.6/dist-packages/librosa/filters.py:284: UserWarning: Empty filters detected in mel frequency basis. Some channels will produce empty responses. Try increasing your sampling rate (and fmax) or reducing n_mels.\n",
            "  warnings.warn('Empty filters detected in mel frequency basis. '\n",
            "/usr/local/lib/python3.6/dist-packages/librosa/filters.py:284: UserWarning: Empty filters detected in mel frequency basis. Some channels will produce empty responses. Try increasing your sampling rate (and fmax) or reducing n_mels.\n",
            "  warnings.warn('Empty filters detected in mel frequency basis. '\n",
            "/usr/local/lib/python3.6/dist-packages/librosa/filters.py:284: UserWarning: Empty filters detected in mel frequency basis. Some channels will produce empty responses. Try increasing your sampling rate (and fmax) or reducing n_mels.\n",
            "  warnings.warn('Empty filters detected in mel frequency basis. '\n",
            "/usr/local/lib/python3.6/dist-packages/librosa/filters.py:284: UserWarning: Empty filters detected in mel frequency basis. Some channels will produce empty responses. Try increasing your sampling rate (and fmax) or reducing n_mels.\n",
            "  warnings.warn('Empty filters detected in mel frequency basis. '\n",
            "/usr/local/lib/python3.6/dist-packages/librosa/filters.py:284: UserWarning: Empty filters detected in mel frequency basis. Some channels will produce empty responses. Try increasing your sampling rate (and fmax) or reducing n_mels.\n",
            "  warnings.warn('Empty filters detected in mel frequency basis. '\n"
          ],
          "name": "stderr"
        },
        {
          "output_type": "stream",
          "text": [
            "peak memory: 2932.61 MiB, increment: 4.55 MiB\n"
          ],
          "name": "stdout"
        }
      ]
    },
    {
      "cell_type": "code",
      "metadata": {
        "_uuid": "9f079adcbab1c59918fbdafcd79c659ce2495fbe",
        "id": "4yjBUHi1lum9",
        "colab_type": "code",
        "outputId": "b542aae2-b8ea-436b-d792-b9f7058c74e6",
        "colab": {
          "base_uri": "https://localhost:8080/",
          "height": 34
        }
      },
      "source": [
        "gc.collect()"
      ],
      "execution_count": 32,
      "outputs": [
        {
          "output_type": "execute_result",
          "data": {
            "text/plain": [
              "10025"
            ]
          },
          "metadata": {
            "tags": []
          },
          "execution_count": 32
        }
      ]
    },
    {
      "cell_type": "code",
      "metadata": {
        "_uuid": "88d4732aff727a6de7becf8d0bf77a0ef599c0df",
        "id": "O6KXEZumlum_",
        "colab_type": "code",
        "colab": {}
      },
      "source": [
        "learn.load('stage-3')\n",
        "test_csv = pd.read_csv('/content/test.csv')"
      ],
      "execution_count": 0,
      "outputs": []
    },
    {
      "cell_type": "markdown",
      "metadata": {
        "_uuid": "5b905aca0bb936d12d00c052e754eadffc530247",
        "id": "YrlN9tGZlunB",
        "colab_type": "text"
      },
      "source": [
        "## Making predictions and writing it to CSV"
      ]
    },
    {
      "cell_type": "code",
      "metadata": {
        "_uuid": "b48007cb1c20925e724b435c213ae72ff88030b3",
        "id": "GkKJmnrKlunB",
        "colab_type": "code",
        "colab": {}
      },
      "source": [
        "with open('output.csv',\"w\") as file:\n",
        "    file.write(\"ID,Prediction\\n\")\n",
        "    for test in test_csv.ID:\n",
        "        img = open_image('/content/working/test/'+str(test)+'.jpg')\n",
        "        prediction = str(learn.predict(img)[0]).split()[0]\n",
        "        file.write(str(test)+','+prediction)\n",
        "        file.write('\\n')"
      ],
      "execution_count": 0,
      "outputs": []
    },
    {
      "cell_type": "code",
      "metadata": {
        "_uuid": "f8fadc76b9c8a1b2f5630a6d82911dd41ed231db",
        "id": "4hbwdkqvlunD",
        "colab_type": "code",
        "outputId": "2ae25b60-4b0c-4a40-8801-e6486a85fbea",
        "colab": {
          "base_uri": "https://localhost:8080/",
          "height": 195
        }
      },
      "source": [
        "output = pd.read_csv('output.csv')\n",
        "output.head()"
      ],
      "execution_count": 35,
      "outputs": [
        {
          "output_type": "execute_result",
          "data": {
            "text/html": [
              "<div>\n",
              "<style scoped>\n",
              "    .dataframe tbody tr th:only-of-type {\n",
              "        vertical-align: middle;\n",
              "    }\n",
              "\n",
              "    .dataframe tbody tr th {\n",
              "        vertical-align: top;\n",
              "    }\n",
              "\n",
              "    .dataframe thead th {\n",
              "        text-align: right;\n",
              "    }\n",
              "</style>\n",
              "<table border=\"1\" class=\"dataframe\">\n",
              "  <thead>\n",
              "    <tr style=\"text-align: right;\">\n",
              "      <th></th>\n",
              "      <th>ID</th>\n",
              "      <th>Prediction</th>\n",
              "    </tr>\n",
              "  </thead>\n",
              "  <tbody>\n",
              "    <tr>\n",
              "      <th>0</th>\n",
              "      <td>5</td>\n",
              "      <td>jackhammer</td>\n",
              "    </tr>\n",
              "    <tr>\n",
              "      <th>1</th>\n",
              "      <td>7</td>\n",
              "      <td>dog_bark</td>\n",
              "    </tr>\n",
              "    <tr>\n",
              "      <th>2</th>\n",
              "      <td>8</td>\n",
              "      <td>drilling</td>\n",
              "    </tr>\n",
              "    <tr>\n",
              "      <th>3</th>\n",
              "      <td>9</td>\n",
              "      <td>dog_bark</td>\n",
              "    </tr>\n",
              "    <tr>\n",
              "      <th>4</th>\n",
              "      <td>13</td>\n",
              "      <td>street_music</td>\n",
              "    </tr>\n",
              "  </tbody>\n",
              "</table>\n",
              "</div>"
            ],
            "text/plain": [
              "   ID    Prediction\n",
              "0   5    jackhammer\n",
              "1   7      dog_bark\n",
              "2   8      drilling\n",
              "3   9      dog_bark\n",
              "4  13  street_music"
            ]
          },
          "metadata": {
            "tags": []
          },
          "execution_count": 35
        }
      ]
    }
  ]
}